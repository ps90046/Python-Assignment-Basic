{
 "cells": [
  {
   "cell_type": "markdown",
   "id": "81a001a6",
   "metadata": {},
   "source": [
    "*  - Expression\n",
    "'hello' - Value\n",
    "-87.8 - Value\n",
    "- - Expression\n",
    "/ - Expression\n",
    "+ - Expression\n",
    "6 - Value"
   ]
  },
  {
   "cell_type": "markdown",
   "id": "8f08fa4c",
   "metadata": {},
   "source": [
    "2. What is the difference between string and variable?\n",
    "\n",
    "Variables are symbols that you can use to store data in a program. You can think of them as an empty box that you fill with some data or value. Strings are data, so we can use them to fill up a variable"
   ]
  },
  {
   "cell_type": "markdown",
   "id": "907ef9a5",
   "metadata": {},
   "source": [
    "3. Describe three different data types.\n",
    "\n",
    "Three different data types are - \n",
    "Numeric - In Python, numeric data type is used to hold numeric values.Integers, floating-point numbers and complex numbers fall under Python numbers category. They are defined as int, float and complex classes in Python.\n",
    "String - String is a sequence of characters represented by either single or double quotes. \n",
    "Boolean - holds either True or False"
   ]
  },
  {
   "cell_type": "markdown",
   "id": "ef1931f5",
   "metadata": {},
   "source": [
    "4. What is an expression made up of? What do all expressions do?\n",
    "\n",
    "An expression is a combination of operators, constants and variables. An expression may consist of one or more operands, and zero or more operators to produce a value.\n",
    "           Expressions need to be evaluated. If you ask Python to print an expression, the interpreter evaluates the expression and displays the result."
   ]
  },
  {
   "cell_type": "markdown",
   "id": "70ffec3c",
   "metadata": {},
   "source": [
    "5. This assignment statements, like spam = 10. What is the difference between an expression and a statement?\n",
    "\n",
    "An assignment statement always has a single variable on the left hand side. The value of the expression (which can contain math operators and other variables) on the right of the = sign is stored in the variable on the left."
   ]
  },
  {
   "cell_type": "code",
   "execution_count": 10,
   "id": "f9da0c53",
   "metadata": {},
   "outputs": [
    {
     "data": {
      "text/plain": [
       "23"
      ]
     },
     "execution_count": 10,
     "metadata": {},
     "output_type": "execute_result"
    }
   ],
   "source": [
    "# 6\n",
    "bacon = 22\n",
    "bacon + 1"
   ]
  },
  {
   "cell_type": "code",
   "execution_count": 11,
   "id": "8343b661",
   "metadata": {},
   "outputs": [
    {
     "data": {
      "text/plain": [
       "'spamspamspam'"
      ]
     },
     "execution_count": 11,
     "metadata": {},
     "output_type": "execute_result"
    }
   ],
   "source": [
    "#7\n",
    "'spam' + 'spamspam'"
   ]
  },
  {
   "cell_type": "code",
   "execution_count": 12,
   "id": "54df6d35",
   "metadata": {},
   "outputs": [
    {
     "data": {
      "text/plain": [
       "'spamspamspam'"
      ]
     },
     "execution_count": 12,
     "metadata": {},
     "output_type": "execute_result"
    }
   ],
   "source": [
    "#7\n",
    "'spam' * 3"
   ]
  },
  {
   "cell_type": "markdown",
   "id": "8a8f29ae",
   "metadata": {},
   "source": [
    "8. Why is eggs a valid variable name while 100 is invalid?\n",
    "\n",
    "Variable names cannot begin with a number."
   ]
  },
  {
   "cell_type": "markdown",
   "id": "2283cc74",
   "metadata": {},
   "source": [
    "9. What three functions can be used to get the integer, floating-point number, or string version of a value?\n",
    "\n",
    "int(), float(), string()"
   ]
  },
  {
   "cell_type": "code",
   "execution_count": 16,
   "id": "67d7a9f0",
   "metadata": {},
   "outputs": [
    {
     "data": {
      "text/plain": [
       "'I have eaten 99 burritos.'"
      ]
     },
     "execution_count": 16,
     "metadata": {},
     "output_type": "execute_result"
    }
   ],
   "source": [
    "# 10\n",
    "'I have eaten ' + '99' + ' burritos.'\n",
    "# We can only concatenate string not int"
   ]
  },
  {
   "cell_type": "code",
   "execution_count": null,
   "id": "f9b6ecd1",
   "metadata": {},
   "outputs": [],
   "source": []
  }
 ],
 "metadata": {
  "kernelspec": {
   "display_name": "Python 3 (ipykernel)",
   "language": "python",
   "name": "python3"
  },
  "language_info": {
   "codemirror_mode": {
    "name": "ipython",
    "version": 3
   },
   "file_extension": ".py",
   "mimetype": "text/x-python",
   "name": "python",
   "nbconvert_exporter": "python",
   "pygments_lexer": "ipython3",
   "version": "3.9.7"
  }
 },
 "nbformat": 4,
 "nbformat_minor": 5
}
